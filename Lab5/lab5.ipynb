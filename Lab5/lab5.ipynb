{
 "cells": [
  {
   "cell_type": "markdown",
   "metadata": {},
   "source": [
    "# LAB 5 - Quantum Key Distribution\n",
    "\n",
    "| Name | Surname | ID Number |\n",
    "|------|---------|---------------------|\n",
    "| Lorenzo | Calandra Buonaura | 2107761 |"
   ]
  },
  {
   "cell_type": "markdown",
   "metadata": {},
   "source": [
    "**Import zone**"
   ]
  },
  {
   "cell_type": "code",
   "execution_count": 1,
   "metadata": {},
   "outputs": [],
   "source": [
    "import qkd_functions as qkd"
   ]
  },
  {
   "cell_type": "markdown",
   "metadata": {},
   "source": [
    "**Dataset loading**"
   ]
  },
  {
   "cell_type": "code",
   "execution_count": 2,
   "metadata": {},
   "outputs": [],
   "source": [
    "dataset = 1\n",
    "\n",
    "transmitted_states = qkd.dataset_loading(f\"./Data/set{dataset}/states.txt\", t=\"state\")\n",
    "received_states = qkd.dataset_loading(f\"./Data/set{dataset}/statesRCV.txt\", t=\"state\")\n",
    "decoy = qkd.dataset_loading(f\"./Data/set{dataset}/decoy.txt\", t=\"decoy\")\n",
    "\n",
    "assert(len(received_states) == len(transmitted_states) == len(decoy))"
   ]
  },
  {
   "cell_type": "markdown",
   "metadata": {},
   "source": [
    "**Probabilities**"
   ]
  },
  {
   "cell_type": "code",
   "execution_count": 3,
   "metadata": {},
   "outputs": [],
   "source": [
    "a_values = ['D', 'H', 'V']\n",
    "b_values = ['D', 'H', 'V', 'A']\n",
    "decoy_values = ['H', 'L', 'N']\n",
    "\n",
    "states_trans_sep = qkd.divide_states(transmitted_states, a_values)\n",
    "states_rec_sep = qkd.divide_states(received_states, b_values)\n",
    "states_decoy_sep = qkd.divide_states(decoy, decoy_values)"
   ]
  },
  {
   "cell_type": "code",
   "execution_count": 4,
   "metadata": {},
   "outputs": [
    {
     "name": "stdout",
     "output_type": "stream",
     "text": [
      "Probability of encoding in base X = 0.10213526155021001\n",
      "Probability of encoding in base Z = 0.89786473844979\n",
      "Total probability = 1.0\n"
     ]
    }
   ],
   "source": [
    "prob_enc_X = len(states_trans_sep['D']) / len(transmitted_states)\n",
    "prob_enc_Z = (len(states_trans_sep['H']) + len(states_trans_sep['V'])) / len(transmitted_states)\n",
    "\n",
    "print(f'Probability of encoding in base X = {prob_enc_X}')\n",
    "print(f'Probability of encoding in base Z = {prob_enc_Z}')\n",
    "print(f'Total probability = {prob_enc_Z + prob_enc_X}')"
   ]
  },
  {
   "cell_type": "code",
   "execution_count": 5,
   "metadata": {},
   "outputs": [
    {
     "name": "stdout",
     "output_type": "stream",
     "text": [
      "Probability of encoding in base X = 0.5327614547537228\n",
      "Probability of encoding in base Z = 0.4672385452462772\n",
      "Total probability = 1.0\n"
     ]
    }
   ],
   "source": [
    "prob_dec_X = (len(states_rec_sep['D']) + len(states_rec_sep['A'])) / len(received_states)\n",
    "prob_dec_Z = (len(states_rec_sep['H']) + len(states_rec_sep['V'])) / len(received_states)\n",
    "\n",
    "print(f'Probability of encoding in base X = {prob_dec_X}')\n",
    "print(f'Probability of encoding in base Z = {prob_dec_Z}')\n",
    "print(f'Total probability = {prob_dec_Z + prob_dec_X}')"
   ]
  },
  {
   "cell_type": "markdown",
   "metadata": {},
   "source": [
    "**Conditional probabilities**"
   ]
  },
  {
   "cell_type": "code",
   "execution_count": 6,
   "metadata": {},
   "outputs": [],
   "source": [
    "cond_probs = qkd.total_cond_probs(transmitted_states, received_states, a_values, b_values)"
   ]
  },
  {
   "cell_type": "code",
   "execution_count": 7,
   "metadata": {},
   "outputs": [
    {
     "data": {
      "text/plain": [
       "{('D', 'D'): 0.5463499409795984,\n",
       " ('H', 'D'): 0.2444528766721279,\n",
       " ('V', 'D'): 0.20121610999944858,\n",
       " ('A', 'D'): 0.00798107234882506,\n",
       " ('D', 'H'): 0.3300246091661935,\n",
       " ('H', 'H'): 0.4367162889775544,\n",
       " ('V', 'H'): 0.009949877590409516,\n",
       " ('A', 'H'): 0.22330922426584263,\n",
       " ('D', 'V'): 0.21777153754047918,\n",
       " ('H', 'V'): 0.004738666412861399,\n",
       " ('V', 'V'): 0.4896997668219239,\n",
       " ('A', 'V'): 0.28779002922473557}"
      ]
     },
     "execution_count": 7,
     "metadata": {},
     "output_type": "execute_result"
    }
   ],
   "source": [
    "cond_probs"
   ]
  },
  {
   "cell_type": "markdown",
   "metadata": {},
   "source": [
    "**QBER**"
   ]
  },
  {
   "cell_type": "code",
   "execution_count": 8,
   "metadata": {},
   "outputs": [
    {
     "name": "stdout",
     "output_type": "stream",
     "text": [
      "P(a!=b|a=H) = 0.5632837110224457\n",
      "----------------------------\n",
      "P(a!=b|a=V) = 0.5103002331780762\n",
      "----------------------------\n",
      "P(a!=b|a=D) = 0.45365005902040156\n",
      "----------------------------\n",
      "P(a!=b|A=X, B=X) = 0.00798107234882506\n",
      "----------------------------\n",
      "P(a!=b|A=Z, B=Z) = 0.014688544003270914\n"
     ]
    }
   ],
   "source": [
    "# QBER achieved in the state H, prob(a!=b|a=H)\n",
    "a_val = a_values[1]\n",
    "b_val = [b for b in b_values if b != a_val]\n",
    "\n",
    "cond_probs, qber = qkd.getQBER(transmitted_states, received_states, a_val, b_val)\n",
    "print(f'P(a!=b|a=H) = {qber}\\n----------------------------')\n",
    "\n",
    "# QBER achieved in the state V, prob(a!=b|a=V)\n",
    "a_val = a_values[2]\n",
    "b_val = [b for b in b_values if b != a_val]\n",
    "\n",
    "cond_probs, qber = qkd.getQBER(transmitted_states, received_states, a_val, b_val)\n",
    "print(f'P(a!=b|a=V) = {qber}\\n----------------------------')\n",
    "\n",
    "# QBER achieved in the state D, prob(a!=b|a=D)\n",
    "a_val = a_values[0]\n",
    "b_val = [b for b in b_values if b != a_val]\n",
    "\n",
    "cond_probs, qber = qkd.getQBER(transmitted_states, received_states, a_val, b_val)\n",
    "print(f'P(a!=b|a=D) = {qber}\\n----------------------------')\n",
    "\n",
    "# QBER achieved in the base X, prob(a!=b|A=X, B=X)\n",
    "a_X = ['D']\n",
    "b_X = ['A', 'D']\n",
    "a_val = a_X[0]\n",
    "b_val = [b for b in b_X if b != a_val]\n",
    "\n",
    "cond_probs, qber = qkd.getQBER(transmitted_states, received_states, a_val, b_val)\n",
    "print(f'P(a!=b|A=X, B=X) = {qber}\\n----------------------------')\n",
    "\n",
    "# QBER achieved in the base Z, prob(a!=b|A=Z, B=Z)\n",
    "a_Z = ['H', 'V']\n",
    "b_Z = ['H', 'V']\n",
    "\n",
    "a_val = a_Z[0]\n",
    "b_val = [b for b in b_Z if b != a_val]\n",
    "cond_probs1, qber1 = qkd.getQBER(transmitted_states, received_states, a_val, b_val)\n",
    "\n",
    "a_val = a_Z[1]\n",
    "b_val = [b for b in b_Z if b != a_val]\n",
    "cond_probs2, qber2 = qkd.getQBER(transmitted_states, received_states, a_val, b_val)\n",
    "print(f'P(a!=b|A=Z, B=Z) = {qber1 + qber2}')"
   ]
  },
  {
   "cell_type": "markdown",
   "metadata": {},
   "source": [
    "**Decoy state**"
   ]
  },
  {
   "cell_type": "code",
   "execution_count": 9,
   "metadata": {},
   "outputs": [
    {
     "name": "stdout",
     "output_type": "stream",
     "text": [
      "Probability of high intensity state = 0.8891890511645666\n",
      "Probability of low intensity state = 0.11081094883543337\n",
      "Total probability = 1.0\n"
     ]
    }
   ],
   "source": [
    "prob_decoy_high = len(states_decoy_sep['H']) / len(decoy)\n",
    "prob_decoy_low = len(states_decoy_sep['L']) / len(decoy)\n",
    "\n",
    "print(f'Probability of high intensity state = {prob_decoy_high}')\n",
    "print(f'Probability of low intensity state = {prob_decoy_low}')\n",
    "print(f'Total probability = {prob_decoy_high + prob_decoy_low}')"
   ]
  },
  {
   "cell_type": "markdown",
   "metadata": {},
   "source": [
    "**Modified BB84**"
   ]
  },
  {
   "cell_type": "markdown",
   "metadata": {},
   "source": [
    "Let's suppose that you have a perfect channel which does not introduce any errors, which means:\n",
    "\n",
    "$P(a=b|A=B)=1$ and $P(b=D|A=Z)=P(b=A|A=Z)=P(b=H|A=X)=P(b=V|A=X)=0.5$.\n",
    "\n",
    "An eavesdropper intercepts the photons along the channel fiber and he measures with the same probabilities of Bob in the base $E={X, Z}$.<br> \n",
    "After the measurement, he sends to Bob the state $e$ measured by him. <br>\n",
    "What are the QBERs experienced by Alice and Bob in this intercept and resend attack? Is our system secure against this type of attack?"
   ]
  }
 ],
 "metadata": {
  "kernelspec": {
   "display_name": "base",
   "language": "python",
   "name": "python3"
  },
  "language_info": {
   "codemirror_mode": {
    "name": "ipython",
    "version": 3
   },
   "file_extension": ".py",
   "mimetype": "text/x-python",
   "name": "python",
   "nbconvert_exporter": "python",
   "pygments_lexer": "ipython3",
   "version": "3.11.5"
  }
 },
 "nbformat": 4,
 "nbformat_minor": 2
}
