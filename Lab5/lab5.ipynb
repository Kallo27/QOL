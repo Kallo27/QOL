{
 "cells": [
  {
   "cell_type": "markdown",
   "metadata": {},
   "source": [
    "# LAB 5 - Quantum Key Distribution\n",
    "\n",
    "| Name | Surname | ID Number |\n",
    "|------|---------|---------------------|\n",
    "| Lorenzo | Calandra Buonaura | 2107761 |"
   ]
  },
  {
   "cell_type": "markdown",
   "metadata": {},
   "source": [
    "**Import zone**"
   ]
  },
  {
   "cell_type": "code",
   "execution_count": 1,
   "metadata": {},
   "outputs": [],
   "source": [
    "import numpy as np"
   ]
  },
  {
   "cell_type": "code",
   "execution_count": 2,
   "metadata": {},
   "outputs": [],
   "source": [
    "def dataset_loading(file_path, t):\n",
    "  state_mapping = {\n",
    "    '00': 'H',\n",
    "    '01': 'V',\n",
    "    '10': 'D',\n",
    "    '11': 'A'\n",
    "  }\n",
    "\n",
    "  decoy_mapping = {\n",
    "    '00': 'N',\n",
    "    '01': 'L',\n",
    "    '10': 'H', \n",
    "    '11': 'X'\n",
    "  }\n",
    "  \n",
    "  if t == \"state\":\n",
    "    mapping = state_mapping\n",
    "  elif t == \"decoy\":\n",
    "    mapping = decoy_mapping\n",
    "  else:\n",
    "    raise ValueError(f\"Invalid type: '{t}'. Accepted types are 'state' or 'decoy'.\")\n",
    "  \n",
    "  with open(file_path, \"rb\") as file:\n",
    "    states = []\n",
    "  \n",
    "    while byte := file.read(1):  # Read one byte at a time\n",
    "      # Convert the byte to its binary representation\n",
    "      binary_representation = bin(ord(byte))[2:].zfill(8)\n",
    "\n",
    "      # Extract the last 2 bits\n",
    "      state_bits = binary_representation[-2:]\n",
    "\n",
    "      # Map the bits to their corresponding state\n",
    "      state = mapping.get(state_bits, \"Unknown\")\n",
    "\n",
    "      states.append(state)\n",
    "      \n",
    "  return np.array(states)"
   ]
  },
  {
   "cell_type": "code",
   "execution_count": 3,
   "metadata": {},
   "outputs": [],
   "source": [
    "transmitted_states_1 = dataset_loading(\"./Data/set1/states.txt\", t=\"state\")"
   ]
  },
  {
   "cell_type": "code",
   "execution_count": 4,
   "metadata": {},
   "outputs": [],
   "source": [
    "recieved_states_1 = dataset_loading(\"./Data/set1/statesRCV.txt\", t=\"state\")"
   ]
  },
  {
   "cell_type": "code",
   "execution_count": 59,
   "metadata": {},
   "outputs": [],
   "source": [
    "decoy_1 = dataset_loading(\"./Data/set1/decoy.txt\", t=\"decoy\")"
   ]
  },
  {
   "cell_type": "code",
   "execution_count": 5,
   "metadata": {},
   "outputs": [],
   "source": [
    "states_trans_D_1 = transmitted_states_1[transmitted_states_1 == 'D']\n",
    "states_trans_H_1 = transmitted_states_1[transmitted_states_1 == 'H']\n",
    "states_trans_V_1 = transmitted_states_1[transmitted_states_1 == 'V']"
   ]
  },
  {
   "cell_type": "code",
   "execution_count": 6,
   "metadata": {},
   "outputs": [
    {
     "name": "stdout",
     "output_type": "stream",
     "text": [
      "Probability of encoding in base X = 0.10213526155021001\n",
      "Probability of encoding in base Z = 0.89786473844979\n",
      "Total probability = 1.0\n"
     ]
    }
   ],
   "source": [
    "prob_enc_X = len(states_trans_D_1) / len(transmitted_states_1)\n",
    "prob_enc_Z = (len(states_trans_H_1) + len(states_trans_V_1)) / len(transmitted_states_1)\n",
    "\n",
    "print(f'Probability of encoding in base X = {prob_enc_X}')\n",
    "print(f'Probability of encoding in base Z = {prob_enc_Z}')\n",
    "print(f'Total probability = {prob_enc_Z + prob_enc_X}')"
   ]
  },
  {
   "cell_type": "code",
   "execution_count": 7,
   "metadata": {},
   "outputs": [],
   "source": [
    "states_rec_D_1 = recieved_states_1[recieved_states_1 == 'D']\n",
    "states_rec_H_1 = recieved_states_1[recieved_states_1 == 'H']\n",
    "states_rec_V_1 = recieved_states_1[recieved_states_1 == 'V']\n",
    "states_rec_A_1 = recieved_states_1[recieved_states_1 == 'A']"
   ]
  },
  {
   "cell_type": "code",
   "execution_count": 8,
   "metadata": {},
   "outputs": [
    {
     "name": "stdout",
     "output_type": "stream",
     "text": [
      "Probability of encoding in base X = 0.5327614547537228\n",
      "Probability of encoding in base Z = 0.4672385452462772\n",
      "Total probability = 1.0\n"
     ]
    }
   ],
   "source": [
    "prob_dec_X = (len(states_rec_D_1) + len(states_rec_A_1)) / len(recieved_states_1)\n",
    "prob_dec_Z = (len(states_rec_H_1) + len(states_rec_V_1)) / len(recieved_states_1)\n",
    "\n",
    "print(f'Probability of encoding in base X = {prob_dec_X}')\n",
    "print(f'Probability of encoding in base Z = {prob_dec_Z}')\n",
    "print(f'Total probability = {prob_dec_Z + prob_dec_X}')"
   ]
  },
  {
   "cell_type": "code",
   "execution_count": 13,
   "metadata": {},
   "outputs": [
    {
     "data": {
      "text/plain": [
       "True"
      ]
     },
     "execution_count": 13,
     "metadata": {},
     "output_type": "execute_result"
    }
   ],
   "source": [
    "len(recieved_states_1) == len(transmitted_states_1)"
   ]
  },
  {
   "cell_type": "code",
   "execution_count": 21,
   "metadata": {},
   "outputs": [],
   "source": [
    "def cond_prob(transmitted_states, received_states, a, b):\n",
    "  mask_a = list(transmitted_states == a)\n",
    "  rec_a = received_states[mask_a]\n",
    "  rec_b_a = rec_a[rec_a == b]\n",
    "  \n",
    "  conditional_probability = len(rec_b_a) / len(rec_a)\n",
    "  \n",
    "  return conditional_probability"
   ]
  },
  {
   "cell_type": "code",
   "execution_count": 22,
   "metadata": {},
   "outputs": [],
   "source": [
    "a_values = ['D', 'H', 'V']\n",
    "b_values = ['D', 'H', 'V', 'A']\n",
    "\n",
    "cond_probs = {}\n",
    "\n",
    "for a in a_values:\n",
    "  for b in b_values:\n",
    "    cond_probs[(b, a)] = cond_prob(transmitted_states_1, recieved_states_1, a, b)"
   ]
  },
  {
   "cell_type": "code",
   "execution_count": 23,
   "metadata": {},
   "outputs": [
    {
     "data": {
      "text/plain": [
       "{('D', 'D'): 0.5463499409795984,\n",
       " ('H', 'D'): 0.2444528766721279,\n",
       " ('V', 'D'): 0.20121610999944858,\n",
       " ('A', 'D'): 0.00798107234882506,\n",
       " ('D', 'H'): 0.3300246091661935,\n",
       " ('H', 'H'): 0.4367162889775544,\n",
       " ('V', 'H'): 0.009949877590409516,\n",
       " ('A', 'H'): 0.22330922426584263,\n",
       " ('D', 'V'): 0.21777153754047918,\n",
       " ('H', 'V'): 0.004738666412861399,\n",
       " ('V', 'V'): 0.4896997668219239,\n",
       " ('A', 'V'): 0.28779002922473557}"
      ]
     },
     "execution_count": 23,
     "metadata": {},
     "output_type": "execute_result"
    }
   ],
   "source": [
    "cond_probs"
   ]
  },
  {
   "cell_type": "code",
   "execution_count": 56,
   "metadata": {},
   "outputs": [],
   "source": [
    "def getQBER(transmitted_states, recieved_states, a_values, b_values):\n",
    "  cond_probs = {}\n",
    "  for a in a_values:\n",
    "    for b in b_values:\n",
    "      cond_probs[(b, a)] = cond_prob(transmitted_states, recieved_states, a, b)\n",
    "      \n",
    "  qber = sum(cond_probs.values())\n",
    "      \n",
    "  return cond_probs, qber"
   ]
  },
  {
   "cell_type": "code",
   "execution_count": 58,
   "metadata": {},
   "outputs": [
    {
     "name": "stdout",
     "output_type": "stream",
     "text": [
      "P(a!=b|a=H) = 0.5632837110224457\n",
      "P(a!=b|a=V) = 0.5103002331780762\n",
      "P(a!=b|a=D) = 0.45365005902040156\n",
      "P(a!=b|A=X, B=X) = 0.00798107234882506\n",
      "P(a!=b|A=Z, B=Z) = 0.014688544003270914\n"
     ]
    }
   ],
   "source": [
    "a_values = ['D', 'H', 'V']\n",
    "b_values = ['D', 'H', 'V', 'A']\n",
    "\n",
    "# QBER achieved in the state H, prob(a!=b|a=H)\n",
    "a_val = a_values[1]\n",
    "b_val = [b for b in b_values if b != a_val]\n",
    "\n",
    "cond_probs, qber = getQBER(transmitted_states_1, recieved_states_1, a_val, b_val)\n",
    "print(f'P(a!=b|a=H) = {qber}')\n",
    "\n",
    "# QBER achieved in the state V, prob(a!=b|a=V)\n",
    "a_val = a_values[2]\n",
    "b_val = [b for b in b_values if b != a_val]\n",
    "\n",
    "cond_probs, qber = getQBER(transmitted_states_1, recieved_states_1, a_val, b_val)\n",
    "print(f'P(a!=b|a=V) = {qber}')\n",
    "\n",
    "# QBER achieved in the state D, prob(a!=b|a=D)\n",
    "a_val = a_values[0]\n",
    "b_val = [b for b in b_values if b != a_val]\n",
    "\n",
    "cond_probs, qber = getQBER(transmitted_states_1, recieved_states_1, a_val, b_val)\n",
    "print(f'P(a!=b|a=D) = {qber}')\n",
    "\n",
    "# QBER achieved in the base X, prob(a!=b|A=X, B=X)\n",
    "a_X = ['D']\n",
    "b_X = ['A', 'D']\n",
    "a_val = a_X[0]\n",
    "b_val = [b for b in b_X if b != a_val]\n",
    "\n",
    "cond_probs, qber = getQBER(transmitted_states_1, recieved_states_1, a_val, b_val)\n",
    "print(f'P(a!=b|A=X, B=X) = {qber}')\n",
    "\n",
    "# QBER achieved in the base Z, prob(a!=b|A=Z, B=Z)\n",
    "a_Z = ['H', 'V']\n",
    "b_Z = ['H', 'V']\n",
    "\n",
    "a_val = a_Z[0]\n",
    "b_val = [b for b in b_Z if b != a_val]\n",
    "cond_probs1, qber1 = getQBER(transmitted_states_1, recieved_states_1, a_val, b_val)\n",
    "\n",
    "a_val = a_Z[1]\n",
    "b_val = [b for b in b_Z if b != a_val]\n",
    "cond_probs2, qber2 = getQBER(transmitted_states_1, recieved_states_1, a_val, b_val)\n",
    "print(f'P(a!=b|A=Z, B=Z) = {qber1 + qber2}')"
   ]
  },
  {
   "cell_type": "markdown",
   "metadata": {},
   "source": [
    "**Decoy state**"
   ]
  },
  {
   "cell_type": "code",
   "execution_count": 60,
   "metadata": {},
   "outputs": [],
   "source": [
    "decoy_high_1 = decoy_1[decoy_1 == 'H']\n",
    "decoy_low_1 = decoy_1[decoy_1 == 'L']"
   ]
  },
  {
   "cell_type": "code",
   "execution_count": 61,
   "metadata": {},
   "outputs": [
    {
     "name": "stdout",
     "output_type": "stream",
     "text": [
      "Probability of high intensity state = 0.8891890511645666\n",
      "Probability of low intensity state = 0.11081094883543337\n",
      "Total probability = 1.0\n"
     ]
    }
   ],
   "source": [
    "prob_decoy_high = len(decoy_high_1) / len(decoy_1)\n",
    "prob_decoy_low = len(decoy_low_1) / len(decoy_1)\n",
    "\n",
    "print(f'Probability of high intensity state = {prob_decoy_high}')\n",
    "print(f'Probability of low intensity state = {prob_decoy_low}')\n",
    "print(f'Total probability = {prob_decoy_high + prob_decoy_low}')"
   ]
  }
 ],
 "metadata": {
  "kernelspec": {
   "display_name": "base",
   "language": "python",
   "name": "python3"
  },
  "language_info": {
   "codemirror_mode": {
    "name": "ipython",
    "version": 3
   },
   "file_extension": ".py",
   "mimetype": "text/x-python",
   "name": "python",
   "nbconvert_exporter": "python",
   "pygments_lexer": "ipython3",
   "version": "3.11.5"
  }
 },
 "nbformat": 4,
 "nbformat_minor": 2
}
